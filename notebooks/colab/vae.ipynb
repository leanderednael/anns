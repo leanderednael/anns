{
  "cells": [
    {
      "cell_type": "markdown",
      "metadata": {
        "id": "j47JY0uTYU52"
      },
      "source": [
        "Variational Auto-Encoders\n",
        "=========================\n",
        "This code implements a Variation Auto-Encoder (VAE). If using Google Colab, please activate the use of the GPU (Edit -> Notebok Settings)."
      ]
    },
    {
      "cell_type": "code",
      "execution_count": 1,
      "metadata": {
        "id": "ow0Kh-EZYoPy",
        "colab": {
          "base_uri": "https://localhost:8080/"
        },
        "outputId": "fece825d-f646-4e38-8645-0a2ffa25ae51"
      },
      "outputs": [
        {
          "output_type": "stream",
          "name": "stdout",
          "text": [
            "Requirement already satisfied: torch in /usr/local/lib/python3.11/dist-packages (2.6.0+cu124)\n",
            "Requirement already satisfied: torchvision in /usr/local/lib/python3.11/dist-packages (0.21.0+cu124)\n",
            "Requirement already satisfied: filelock in /usr/local/lib/python3.11/dist-packages (from torch) (3.18.0)\n",
            "Requirement already satisfied: typing-extensions>=4.10.0 in /usr/local/lib/python3.11/dist-packages (from torch) (4.14.1)\n",
            "Requirement already satisfied: networkx in /usr/local/lib/python3.11/dist-packages (from torch) (3.5)\n",
            "Requirement already satisfied: jinja2 in /usr/local/lib/python3.11/dist-packages (from torch) (3.1.6)\n",
            "Requirement already satisfied: fsspec in /usr/local/lib/python3.11/dist-packages (from torch) (2025.3.0)\n",
            "Collecting nvidia-cuda-nvrtc-cu12==12.4.127 (from torch)\n",
            "  Downloading nvidia_cuda_nvrtc_cu12-12.4.127-py3-none-manylinux2014_x86_64.whl.metadata (1.5 kB)\n",
            "Collecting nvidia-cuda-runtime-cu12==12.4.127 (from torch)\n",
            "  Downloading nvidia_cuda_runtime_cu12-12.4.127-py3-none-manylinux2014_x86_64.whl.metadata (1.5 kB)\n",
            "Collecting nvidia-cuda-cupti-cu12==12.4.127 (from torch)\n",
            "  Downloading nvidia_cuda_cupti_cu12-12.4.127-py3-none-manylinux2014_x86_64.whl.metadata (1.6 kB)\n",
            "Collecting nvidia-cudnn-cu12==9.1.0.70 (from torch)\n",
            "  Downloading nvidia_cudnn_cu12-9.1.0.70-py3-none-manylinux2014_x86_64.whl.metadata (1.6 kB)\n",
            "Collecting nvidia-cublas-cu12==12.4.5.8 (from torch)\n",
            "  Downloading nvidia_cublas_cu12-12.4.5.8-py3-none-manylinux2014_x86_64.whl.metadata (1.5 kB)\n",
            "Collecting nvidia-cufft-cu12==11.2.1.3 (from torch)\n",
            "  Downloading nvidia_cufft_cu12-11.2.1.3-py3-none-manylinux2014_x86_64.whl.metadata (1.5 kB)\n",
            "Collecting nvidia-curand-cu12==10.3.5.147 (from torch)\n",
            "  Downloading nvidia_curand_cu12-10.3.5.147-py3-none-manylinux2014_x86_64.whl.metadata (1.5 kB)\n",
            "Collecting nvidia-cusolver-cu12==11.6.1.9 (from torch)\n",
            "  Downloading nvidia_cusolver_cu12-11.6.1.9-py3-none-manylinux2014_x86_64.whl.metadata (1.6 kB)\n",
            "Collecting nvidia-cusparse-cu12==12.3.1.170 (from torch)\n",
            "  Downloading nvidia_cusparse_cu12-12.3.1.170-py3-none-manylinux2014_x86_64.whl.metadata (1.6 kB)\n",
            "Requirement already satisfied: nvidia-cusparselt-cu12==0.6.2 in /usr/local/lib/python3.11/dist-packages (from torch) (0.6.2)\n",
            "Requirement already satisfied: nvidia-nccl-cu12==2.21.5 in /usr/local/lib/python3.11/dist-packages (from torch) (2.21.5)\n",
            "Requirement already satisfied: nvidia-nvtx-cu12==12.4.127 in /usr/local/lib/python3.11/dist-packages (from torch) (12.4.127)\n",
            "Collecting nvidia-nvjitlink-cu12==12.4.127 (from torch)\n",
            "  Downloading nvidia_nvjitlink_cu12-12.4.127-py3-none-manylinux2014_x86_64.whl.metadata (1.5 kB)\n",
            "Requirement already satisfied: triton==3.2.0 in /usr/local/lib/python3.11/dist-packages (from torch) (3.2.0)\n",
            "Requirement already satisfied: sympy==1.13.1 in /usr/local/lib/python3.11/dist-packages (from torch) (1.13.1)\n",
            "Requirement already satisfied: mpmath<1.4,>=1.1.0 in /usr/local/lib/python3.11/dist-packages (from sympy==1.13.1->torch) (1.3.0)\n",
            "Requirement already satisfied: numpy in /usr/local/lib/python3.11/dist-packages (from torchvision) (2.0.2)\n",
            "Requirement already satisfied: pillow!=8.3.*,>=5.3.0 in /usr/local/lib/python3.11/dist-packages (from torchvision) (11.3.0)\n",
            "Requirement already satisfied: MarkupSafe>=2.0 in /usr/local/lib/python3.11/dist-packages (from jinja2->torch) (3.0.2)\n",
            "Downloading nvidia_cublas_cu12-12.4.5.8-py3-none-manylinux2014_x86_64.whl (363.4 MB)\n",
            "\u001b[2K   \u001b[90m━━━━━━━━━━━━━━━━━━━━━━━━━━━━━━━━━━━━━━━━\u001b[0m \u001b[32m363.4/363.4 MB\u001b[0m \u001b[31m3.7 MB/s\u001b[0m eta \u001b[36m0:00:00\u001b[0m\n",
            "\u001b[?25hDownloading nvidia_cuda_cupti_cu12-12.4.127-py3-none-manylinux2014_x86_64.whl (13.8 MB)\n",
            "\u001b[2K   \u001b[90m━━━━━━━━━━━━━━━━━━━━━━━━━━━━━━━━━━━━━━━━\u001b[0m \u001b[32m13.8/13.8 MB\u001b[0m \u001b[31m56.1 MB/s\u001b[0m eta \u001b[36m0:00:00\u001b[0m\n",
            "\u001b[?25hDownloading nvidia_cuda_nvrtc_cu12-12.4.127-py3-none-manylinux2014_x86_64.whl (24.6 MB)\n",
            "\u001b[2K   \u001b[90m━━━━━━━━━━━━━━━━━━━━━━━━━━━━━━━━━━━━━━━━\u001b[0m \u001b[32m24.6/24.6 MB\u001b[0m \u001b[31m30.4 MB/s\u001b[0m eta \u001b[36m0:00:00\u001b[0m\n",
            "\u001b[?25hDownloading nvidia_cuda_runtime_cu12-12.4.127-py3-none-manylinux2014_x86_64.whl (883 kB)\n",
            "\u001b[2K   \u001b[90m━━━━━━━━━━━━━━━━━━━━━━━━━━━━━━━━━━━━━━━━\u001b[0m \u001b[32m883.7/883.7 kB\u001b[0m \u001b[31m32.6 MB/s\u001b[0m eta \u001b[36m0:00:00\u001b[0m\n",
            "\u001b[?25hDownloading nvidia_cudnn_cu12-9.1.0.70-py3-none-manylinux2014_x86_64.whl (664.8 MB)\n",
            "\u001b[2K   \u001b[90m━━━━━━━━━━━━━━━━━━━━━━━━━━━━━━━━━━━━━━━━\u001b[0m \u001b[32m664.8/664.8 MB\u001b[0m \u001b[31m2.0 MB/s\u001b[0m eta \u001b[36m0:00:00\u001b[0m\n",
            "\u001b[?25hDownloading nvidia_cufft_cu12-11.2.1.3-py3-none-manylinux2014_x86_64.whl (211.5 MB)\n",
            "\u001b[2K   \u001b[90m━━━━━━━━━━━━━━━━━━━━━━━━━━━━━━━━━━━━━━━━\u001b[0m \u001b[32m211.5/211.5 MB\u001b[0m \u001b[31m5.5 MB/s\u001b[0m eta \u001b[36m0:00:00\u001b[0m\n",
            "\u001b[?25hDownloading nvidia_curand_cu12-10.3.5.147-py3-none-manylinux2014_x86_64.whl (56.3 MB)\n",
            "\u001b[2K   \u001b[90m━━━━━━━━━━━━━━━━━━━━━━━━━━━━━━━━━━━━━━━━\u001b[0m \u001b[32m56.3/56.3 MB\u001b[0m \u001b[31m13.0 MB/s\u001b[0m eta \u001b[36m0:00:00\u001b[0m\n",
            "\u001b[?25hDownloading nvidia_cusolver_cu12-11.6.1.9-py3-none-manylinux2014_x86_64.whl (127.9 MB)\n",
            "\u001b[2K   \u001b[90m━━━━━━━━━━━━━━━━━━━━━━━━━━━━━━━━━━━━━━━━\u001b[0m \u001b[32m127.9/127.9 MB\u001b[0m \u001b[31m7.5 MB/s\u001b[0m eta \u001b[36m0:00:00\u001b[0m\n",
            "\u001b[?25hDownloading nvidia_cusparse_cu12-12.3.1.170-py3-none-manylinux2014_x86_64.whl (207.5 MB)\n",
            "\u001b[2K   \u001b[90m━━━━━━━━━━━━━━━━━━━━━━━━━━━━━━━━━━━━━━━━\u001b[0m \u001b[32m207.5/207.5 MB\u001b[0m \u001b[31m5.4 MB/s\u001b[0m eta \u001b[36m0:00:00\u001b[0m\n",
            "\u001b[?25hDownloading nvidia_nvjitlink_cu12-12.4.127-py3-none-manylinux2014_x86_64.whl (21.1 MB)\n",
            "\u001b[2K   \u001b[90m━━━━━━━━━━━━━━━━━━━━━━━━━━━━━━━━━━━━━━━━\u001b[0m \u001b[32m21.1/21.1 MB\u001b[0m \u001b[31m100.2 MB/s\u001b[0m eta \u001b[36m0:00:00\u001b[0m\n",
            "\u001b[?25hInstalling collected packages: nvidia-nvjitlink-cu12, nvidia-curand-cu12, nvidia-cufft-cu12, nvidia-cuda-runtime-cu12, nvidia-cuda-nvrtc-cu12, nvidia-cuda-cupti-cu12, nvidia-cublas-cu12, nvidia-cusparse-cu12, nvidia-cudnn-cu12, nvidia-cusolver-cu12\n",
            "  Attempting uninstall: nvidia-nvjitlink-cu12\n",
            "    Found existing installation: nvidia-nvjitlink-cu12 12.5.82\n",
            "    Uninstalling nvidia-nvjitlink-cu12-12.5.82:\n",
            "      Successfully uninstalled nvidia-nvjitlink-cu12-12.5.82\n",
            "  Attempting uninstall: nvidia-curand-cu12\n",
            "    Found existing installation: nvidia-curand-cu12 10.3.6.82\n",
            "    Uninstalling nvidia-curand-cu12-10.3.6.82:\n",
            "      Successfully uninstalled nvidia-curand-cu12-10.3.6.82\n",
            "  Attempting uninstall: nvidia-cufft-cu12\n",
            "    Found existing installation: nvidia-cufft-cu12 11.2.3.61\n",
            "    Uninstalling nvidia-cufft-cu12-11.2.3.61:\n",
            "      Successfully uninstalled nvidia-cufft-cu12-11.2.3.61\n",
            "  Attempting uninstall: nvidia-cuda-runtime-cu12\n",
            "    Found existing installation: nvidia-cuda-runtime-cu12 12.5.82\n",
            "    Uninstalling nvidia-cuda-runtime-cu12-12.5.82:\n",
            "      Successfully uninstalled nvidia-cuda-runtime-cu12-12.5.82\n",
            "  Attempting uninstall: nvidia-cuda-nvrtc-cu12\n",
            "    Found existing installation: nvidia-cuda-nvrtc-cu12 12.5.82\n",
            "    Uninstalling nvidia-cuda-nvrtc-cu12-12.5.82:\n",
            "      Successfully uninstalled nvidia-cuda-nvrtc-cu12-12.5.82\n",
            "  Attempting uninstall: nvidia-cuda-cupti-cu12\n",
            "    Found existing installation: nvidia-cuda-cupti-cu12 12.5.82\n",
            "    Uninstalling nvidia-cuda-cupti-cu12-12.5.82:\n",
            "      Successfully uninstalled nvidia-cuda-cupti-cu12-12.5.82\n",
            "  Attempting uninstall: nvidia-cublas-cu12\n",
            "    Found existing installation: nvidia-cublas-cu12 12.5.3.2\n",
            "    Uninstalling nvidia-cublas-cu12-12.5.3.2:\n",
            "      Successfully uninstalled nvidia-cublas-cu12-12.5.3.2\n",
            "  Attempting uninstall: nvidia-cusparse-cu12\n",
            "    Found existing installation: nvidia-cusparse-cu12 12.5.1.3\n",
            "    Uninstalling nvidia-cusparse-cu12-12.5.1.3:\n",
            "      Successfully uninstalled nvidia-cusparse-cu12-12.5.1.3\n",
            "  Attempting uninstall: nvidia-cudnn-cu12\n",
            "    Found existing installation: nvidia-cudnn-cu12 9.3.0.75\n",
            "    Uninstalling nvidia-cudnn-cu12-9.3.0.75:\n",
            "      Successfully uninstalled nvidia-cudnn-cu12-9.3.0.75\n",
            "  Attempting uninstall: nvidia-cusolver-cu12\n",
            "    Found existing installation: nvidia-cusolver-cu12 11.6.3.83\n",
            "    Uninstalling nvidia-cusolver-cu12-11.6.3.83:\n",
            "      Successfully uninstalled nvidia-cusolver-cu12-11.6.3.83\n",
            "Successfully installed nvidia-cublas-cu12-12.4.5.8 nvidia-cuda-cupti-cu12-12.4.127 nvidia-cuda-nvrtc-cu12-12.4.127 nvidia-cuda-runtime-cu12-12.4.127 nvidia-cudnn-cu12-9.1.0.70 nvidia-cufft-cu12-11.2.1.3 nvidia-curand-cu12-10.3.5.147 nvidia-cusolver-cu12-11.6.1.9 nvidia-cusparse-cu12-12.3.1.170 nvidia-nvjitlink-cu12-12.4.127\n",
            "Requirement already satisfied: tqdm in /usr/local/lib/python3.11/dist-packages (4.67.1)\n"
          ]
        }
      ],
      "source": [
        "# install pytorch (http://pytorch.org/) if run from Google Colaboratory\n",
        "import sys\n",
        "if 'google.colab' in sys.modules and 'torch' not in sys.modules:\n",
        "  !pip3 install torch torchvision #--index-url https://download.pytorch.org/whl/cu118 #uncomment to enforce cuda 11.8\n",
        "\n",
        "if 'google.colab' in sys.modules and 'tqdm' not in sys.modules:\n",
        "  !pip3 install tqdm\n",
        "\n",
        "\n",
        "%matplotlib inline\n",
        "import os\n",
        "from tqdm import tqdm\n",
        "\n",
        "import torch\n",
        "import torch.nn as nn\n",
        "import torch.nn.functional as F\n",
        "\n",
        "from matplotlib import pyplot as plt\n",
        "from matplotlib import gridspec\n",
        "\n",
        "import os\n",
        "if os.path.exists('./training') == False:\n",
        "  os.mkdir('./training')"
      ]
    },
    {
      "cell_type": "markdown",
      "metadata": {
        "id": "z30nZkbuY9xX"
      },
      "source": [
        "Hyper-Parameters\n",
        "----------------"
      ]
    },
    {
      "cell_type": "code",
      "execution_count": 2,
      "metadata": {
        "id": "9S2rVJ6pY_-8"
      },
      "outputs": [],
      "source": [
        "batch_size = 3000     # batch size\n",
        "latent_dim = 100      # latent-space dimension\n",
        "middle_dim = 128      # size of the middle layer\n",
        "learning_rate = 1e-3  # learning rate\n",
        "max_epochs = 50       # maximum number of epochs\n",
        "use_gpu = True        # using the GPU"
      ]
    },
    {
      "cell_type": "markdown",
      "metadata": {
        "id": "03u5OrHuZOcc"
      },
      "source": [
        "Loading the Dataset\n",
        "-------------------\n",
        "As in the GAN example, we will be using the MNIST dataset. MNIST images show digits from 0-9 in 28x28 grayscale images."
      ]
    },
    {
      "cell_type": "code",
      "execution_count": 3,
      "metadata": {
        "id": "3EQOZ5ezZVx_",
        "colab": {
          "base_uri": "https://localhost:8080/"
        },
        "outputId": "e42a94d9-edc6-4353-f734-3501c8202c60"
      },
      "outputs": [
        {
          "output_type": "stream",
          "name": "stderr",
          "text": [
            "100%|██████████| 9.91M/9.91M [00:00<00:00, 55.9MB/s]\n",
            "100%|██████████| 28.9k/28.9k [00:00<00:00, 1.74MB/s]\n",
            "100%|██████████| 1.65M/1.65M [00:00<00:00, 14.7MB/s]\n",
            "100%|██████████| 4.54k/4.54k [00:00<00:00, 1.55MB/s]\n"
          ]
        }
      ],
      "source": [
        "import torchvision.transforms as transforms\n",
        "from torch.utils.data import DataLoader\n",
        "from torchvision.datasets import MNIST\n",
        "\n",
        "img_transform = transforms.ToTensor()\n",
        "\n",
        "train_dataset = MNIST(root='./data/MNIST', download=True, train=True, transform=img_transform)\n",
        "train_dataloader = DataLoader(train_dataset, batch_size=batch_size, shuffle=True)\n",
        "\n",
        "test_dataset = MNIST(root='./data/MNIST', download=True, train=False, transform=img_transform)\n",
        "test_dataloader = DataLoader(test_dataset, batch_size=batch_size, shuffle=True)\n",
        "\n",
        "# image dimensions\n",
        "input_dim = 28**2"
      ]
    },
    {
      "cell_type": "markdown",
      "metadata": {
        "id": "5FvcF7AokK0u"
      },
      "source": [
        "VAE Definition\n",
        "--------------\n",
        "We will now use a specific scheme to initialize our weights, called Xavier initialization. You can neglect this if you are using other layers than fully connected."
      ]
    },
    {
      "cell_type": "code",
      "execution_count": 4,
      "metadata": {
        "id": "gx_J05EVkV-f"
      },
      "outputs": [],
      "source": [
        "def init_weights(m):\n",
        "  if isinstance(m, nn.Linear):\n",
        "    nn.init.xavier_uniform_(m.weight)\n",
        "    m.bias.data.fill_(0.01)"
      ]
    },
    {
      "cell_type": "markdown",
      "metadata": {
        "id": "4Yu8y7QSamnH"
      },
      "source": [
        "The following model represents the distribution encoder distribution q(z|x), together with the reparametrization trick."
      ]
    },
    {
      "cell_type": "code",
      "execution_count": 5,
      "metadata": {
        "id": "_srXzGaBbGGF"
      },
      "outputs": [],
      "source": [
        "class Q(nn.Module):\n",
        "  def __init__(self, input_dim, middle_dim, latent_dim):\n",
        "    super(Q, self).__init__()\n",
        "    self.lin_middle = nn.Linear(input_dim, middle_dim, bias=True)\n",
        "    self.lin_mu = nn.Linear(middle_dim, latent_dim, bias=True)\n",
        "    self.lin_var = nn.Linear(middle_dim, latent_dim, bias=True)\n",
        "\n",
        "    # Xavier initialization (to be neglected if using other than fully-connected)\n",
        "    init_weights(self.lin_middle)\n",
        "    init_weights(self.lin_mu)\n",
        "    init_weights(self.lin_var)\n",
        "\n",
        "  def forward(self, input):\n",
        "    # forward\n",
        "    middle = F.relu(self.lin_middle(input))\n",
        "    z_mu = self.lin_mu(middle)\n",
        "    z_var = self.lin_var(middle)\n",
        "    return z_mu, z_var"
      ]
    },
    {
      "cell_type": "markdown",
      "metadata": {
        "id": "2ADB4kdenMzu"
      },
      "source": [
        "We now model the reparametrization trick."
      ]
    },
    {
      "cell_type": "code",
      "execution_count": 6,
      "metadata": {
        "id": "ySUxXvDQnRSl"
      },
      "outputs": [],
      "source": [
        "class Reparametrization(nn.Module):\n",
        "  def __init__(self):\n",
        "    super(Reparametrization, self).__init__()\n",
        "\n",
        "  def forward(self, z_mu, z_var):\n",
        "    eps = torch.randn(z_var.size(0), z_var.size(1), device=device) # sample on a unit Gaussian\n",
        "    return z_mu + torch.exp(z_var/2) * eps"
      ]
    },
    {
      "cell_type": "markdown",
      "metadata": {
        "id": "R6g8SKTFgHzT"
      },
      "source": [
        "The following model represents the decoder P(x|z)."
      ]
    },
    {
      "cell_type": "code",
      "execution_count": 7,
      "metadata": {
        "id": "SOJqtQJAgplb"
      },
      "outputs": [],
      "source": [
        "class P(nn.Module):\n",
        "  def __init__(self, input_dim, middle_dim, latent_dim):\n",
        "    super(P, self).__init__()\n",
        "    self.lin_latent = nn.Linear(latent_dim, middle_dim, bias=True)\n",
        "    self.lin_middle = nn.Linear(middle_dim, input_dim, bias=True)\n",
        "\n",
        "    # Xavier initialization (to be neglected if using other than fully-connected)\n",
        "    init_weights(self.lin_latent)\n",
        "    init_weights(self.lin_middle)\n",
        "\n",
        "  def forward(self, latent):\n",
        "    middle = F.relu(self.lin_latent(latent))\n",
        "    return F.sigmoid(self.lin_middle(middle))"
      ]
    },
    {
      "cell_type": "markdown",
      "metadata": {
        "id": "v11VMJUuh6UA"
      },
      "source": [
        "Training\n",
        "--------\n",
        "\n",
        "We first initialize an instance of the model and load it onto GPU if relevant."
      ]
    },
    {
      "cell_type": "code",
      "execution_count": 8,
      "metadata": {
        "id": "fgl4ZXgdiA4R",
        "colab": {
          "base_uri": "https://localhost:8080/"
        },
        "outputId": "0b3c68b3-a52c-48e7-ec07-a70915acc547"
      },
      "outputs": [
        {
          "output_type": "stream",
          "name": "stdout",
          "text": [
            "Using the GPU (faster).\n",
            "Number of parameters for encoder: 114064 and decoder: 126280\n"
          ]
        }
      ],
      "source": [
        "# creating instances of the model\n",
        "p = P(input_dim, middle_dim, latent_dim)\n",
        "q = Q(input_dim, middle_dim, latent_dim)\n",
        "reparam = Reparametrization()\n",
        "\n",
        "# loading them onto the GPU if relevant\n",
        "if use_gpu and torch.cuda.is_available():\n",
        "  device = torch.device(\"cuda:0\")\n",
        "  print(\"Using the GPU (faster).\")\n",
        "else:\n",
        "  device = torch.device(\"cpu\")\n",
        "  print(\"Using the CPU.\")\n",
        "\n",
        "q = q.to(device)\n",
        "p = p.to(device)\n",
        "reparam = reparam.to(device)\n",
        "\n",
        "# computing the number of parameters\n",
        "num_params_gen = sum(param.numel() for param in p.parameters() if param.requires_grad)\n",
        "num_params_disc = sum(param.numel() for param in q.parameters() if param.requires_grad)\n",
        "print('Number of parameters for encoder: %d and decoder: %d' % (num_params_gen, num_params_disc))"
      ]
    },
    {
      "cell_type": "markdown",
      "metadata": {
        "id": "B9zxficBiEvN"
      },
      "source": [
        "We can now do the training properly speaking."
      ]
    },
    {
      "cell_type": "code",
      "execution_count": 9,
      "metadata": {
        "id": "XF8fk1rUiGZf",
        "colab": {
          "base_uri": "https://localhost:8080/",
          "height": 1000
        },
        "outputId": "9e6b4464-5067-43db-e530-277d396b1181"
      },
      "outputs": [
        {
          "output_type": "stream",
          "name": "stderr",
          "text": [
            "/usr/local/lib/python3.11/dist-packages/torch/nn/_reduction.py:51: UserWarning: size_average and reduce args will be deprecated, please use reduction='sum' instead.\n",
            "  warnings.warn(warning.format(ret))\n"
          ]
        },
        {
          "output_type": "stream",
          "name": "stdout",
          "text": [
            "Training...\n"
          ]
        },
        {
          "output_type": "stream",
          "name": "stderr",
          "text": [
            "Epoch 0: 100%|██████████| 20/20 [00:12<00:00,  1.57it/s]\n"
          ]
        },
        {
          "output_type": "stream",
          "name": "stdout",
          "text": [
            "\t[Losses] Total 2.63 - Recon. 2.51 - KL 0.13\n"
          ]
        },
        {
          "output_type": "stream",
          "name": "stderr",
          "text": [
            "Epoch 1: 100%|██████████| 20/20 [00:07<00:00,  2.79it/s]\n"
          ]
        },
        {
          "output_type": "stream",
          "name": "stdout",
          "text": [
            "\t[Losses] Total 1.57 - Recon. 1.44 - KL 0.127\n"
          ]
        },
        {
          "output_type": "stream",
          "name": "stderr",
          "text": [
            "Epoch 2: 100%|██████████| 20/20 [00:06<00:00,  3.02it/s]\n"
          ]
        },
        {
          "output_type": "stream",
          "name": "stdout",
          "text": [
            "\t[Losses] Total 1.43 - Recon. 1.32 - KL 0.106\n"
          ]
        },
        {
          "output_type": "stream",
          "name": "stderr",
          "text": [
            "Epoch 3: 100%|██████████| 20/20 [00:07<00:00,  2.69it/s]\n"
          ]
        },
        {
          "output_type": "stream",
          "name": "stdout",
          "text": [
            "\t[Losses] Total 1.33 - Recon. 1.22 - KL 0.115\n"
          ]
        },
        {
          "output_type": "stream",
          "name": "stderr",
          "text": [
            "Epoch 4: 100%|██████████| 20/20 [00:06<00:00,  2.91it/s]\n"
          ]
        },
        {
          "output_type": "stream",
          "name": "stdout",
          "text": [
            "\t[Losses] Total 1.26 - Recon. 1.13 - KL 0.127\n"
          ]
        },
        {
          "output_type": "stream",
          "name": "stderr",
          "text": [
            "Epoch 5: 100%|██████████| 20/20 [00:06<00:00,  2.94it/s]\n"
          ]
        },
        {
          "output_type": "stream",
          "name": "stdout",
          "text": [
            "\t[Losses] Total 1.21 - Recon. 1.08 - KL 0.132\n"
          ]
        },
        {
          "output_type": "stream",
          "name": "stderr",
          "text": [
            "Epoch 6: 100%|██████████| 20/20 [00:07<00:00,  2.76it/s]\n"
          ]
        },
        {
          "output_type": "stream",
          "name": "stdout",
          "text": [
            "\t[Losses] Total 1.18 - Recon. 1.05 - KL 0.135\n"
          ]
        },
        {
          "output_type": "stream",
          "name": "stderr",
          "text": [
            "Epoch 7: 100%|██████████| 20/20 [00:06<00:00,  3.01it/s]\n"
          ]
        },
        {
          "output_type": "stream",
          "name": "stdout",
          "text": [
            "\t[Losses] Total 1.14 - Recon. 1.0 - KL 0.138\n"
          ]
        },
        {
          "output_type": "stream",
          "name": "stderr",
          "text": [
            "Epoch 8: 100%|██████████| 20/20 [00:08<00:00,  2.49it/s]\n"
          ]
        },
        {
          "output_type": "stream",
          "name": "stdout",
          "text": [
            "\t[Losses] Total 1.12 - Recon. 0.98 - KL 0.142\n"
          ]
        },
        {
          "output_type": "stream",
          "name": "stderr",
          "text": [
            "Epoch 9: 100%|██████████| 20/20 [00:07<00:00,  2.77it/s]\n"
          ]
        },
        {
          "output_type": "stream",
          "name": "stdout",
          "text": [
            "\t[Losses] Total 1.1 - Recon. 0.954 - KL 0.144\n"
          ]
        },
        {
          "output_type": "stream",
          "name": "stderr",
          "text": [
            "Epoch 10: 100%|██████████| 20/20 [00:06<00:00,  2.97it/s]\n"
          ]
        },
        {
          "output_type": "stream",
          "name": "stdout",
          "text": [
            "\t[Losses] Total 1.08 - Recon. 0.937 - KL 0.146\n"
          ]
        },
        {
          "output_type": "stream",
          "name": "stderr",
          "text": [
            "Epoch 11: 100%|██████████| 20/20 [00:07<00:00,  2.72it/s]\n"
          ]
        },
        {
          "output_type": "stream",
          "name": "stdout",
          "text": [
            "\t[Losses] Total 1.07 - Recon. 0.917 - KL 0.148\n"
          ]
        },
        {
          "output_type": "stream",
          "name": "stderr",
          "text": [
            "Epoch 12: 100%|██████████| 20/20 [00:06<00:00,  3.11it/s]\n"
          ]
        },
        {
          "output_type": "stream",
          "name": "stdout",
          "text": [
            "\t[Losses] Total 1.05 - Recon. 0.901 - KL 0.15\n"
          ]
        },
        {
          "output_type": "stream",
          "name": "stderr",
          "text": [
            "Epoch 13: 100%|██████████| 20/20 [00:07<00:00,  2.80it/s]\n"
          ]
        },
        {
          "output_type": "stream",
          "name": "stdout",
          "text": [
            "\t[Losses] Total 1.04 - Recon. 0.885 - KL 0.152\n"
          ]
        },
        {
          "output_type": "stream",
          "name": "stderr",
          "text": [
            "Epoch 14: 100%|██████████| 20/20 [00:06<00:00,  2.87it/s]\n"
          ]
        },
        {
          "output_type": "stream",
          "name": "stdout",
          "text": [
            "\t[Losses] Total 1.03 - Recon. 0.873 - KL 0.153\n"
          ]
        },
        {
          "output_type": "stream",
          "name": "stderr",
          "text": [
            "Epoch 15: 100%|██████████| 20/20 [00:06<00:00,  2.89it/s]\n"
          ]
        },
        {
          "output_type": "stream",
          "name": "stdout",
          "text": [
            "\t[Losses] Total 1.01 - Recon. 0.859 - KL 0.154\n"
          ]
        },
        {
          "output_type": "stream",
          "name": "stderr",
          "text": [
            "Epoch 16: 100%|██████████| 20/20 [00:07<00:00,  2.79it/s]\n"
          ]
        },
        {
          "output_type": "stream",
          "name": "stdout",
          "text": [
            "\t[Losses] Total 1.0 - Recon. 0.847 - KL 0.155\n"
          ]
        },
        {
          "output_type": "stream",
          "name": "stderr",
          "text": [
            "Epoch 17: 100%|██████████| 20/20 [00:06<00:00,  3.07it/s]\n"
          ]
        },
        {
          "output_type": "stream",
          "name": "stdout",
          "text": [
            "\t[Losses] Total 0.995 - Recon. 0.84 - KL 0.156\n"
          ]
        },
        {
          "output_type": "stream",
          "name": "stderr",
          "text": [
            "Epoch 18: 100%|██████████| 20/20 [00:07<00:00,  2.74it/s]\n"
          ]
        },
        {
          "output_type": "stream",
          "name": "stdout",
          "text": [
            "\t[Losses] Total 0.986 - Recon. 0.83 - KL 0.156\n"
          ]
        },
        {
          "output_type": "stream",
          "name": "stderr",
          "text": [
            "Epoch 19: 100%|██████████| 20/20 [00:07<00:00,  2.78it/s]\n"
          ]
        },
        {
          "output_type": "stream",
          "name": "stdout",
          "text": [
            "\t[Losses] Total 0.976 - Recon. 0.819 - KL 0.156\n"
          ]
        },
        {
          "output_type": "stream",
          "name": "stderr",
          "text": [
            "Epoch 20: 100%|██████████| 20/20 [00:06<00:00,  2.95it/s]\n"
          ]
        },
        {
          "output_type": "stream",
          "name": "stdout",
          "text": [
            "\t[Losses] Total 0.97 - Recon. 0.813 - KL 0.157\n"
          ]
        },
        {
          "output_type": "stream",
          "name": "stderr",
          "text": [
            "Epoch 21: 100%|██████████| 20/20 [00:07<00:00,  2.72it/s]\n"
          ]
        },
        {
          "output_type": "stream",
          "name": "stdout",
          "text": [
            "\t[Losses] Total 0.962 - Recon. 0.804 - KL 0.157\n"
          ]
        },
        {
          "output_type": "stream",
          "name": "stderr",
          "text": [
            "Epoch 22: 100%|██████████| 20/20 [00:06<00:00,  2.97it/s]\n"
          ]
        },
        {
          "output_type": "stream",
          "name": "stdout",
          "text": [
            "\t[Losses] Total 0.955 - Recon. 0.797 - KL 0.158\n"
          ]
        },
        {
          "output_type": "stream",
          "name": "stderr",
          "text": [
            "Epoch 23: 100%|██████████| 20/20 [00:07<00:00,  2.83it/s]\n"
          ]
        },
        {
          "output_type": "stream",
          "name": "stdout",
          "text": [
            "\t[Losses] Total 0.949 - Recon. 0.791 - KL 0.158\n"
          ]
        },
        {
          "output_type": "stream",
          "name": "stderr",
          "text": [
            "Epoch 24: 100%|██████████| 20/20 [00:06<00:00,  2.89it/s]\n"
          ]
        },
        {
          "output_type": "stream",
          "name": "stdout",
          "text": [
            "\t[Losses] Total 0.942 - Recon. 0.784 - KL 0.158\n"
          ]
        },
        {
          "output_type": "stream",
          "name": "stderr",
          "text": [
            "Epoch 25: 100%|██████████| 20/20 [00:07<00:00,  2.83it/s]\n"
          ]
        },
        {
          "output_type": "stream",
          "name": "stdout",
          "text": [
            "\t[Losses] Total 0.936 - Recon. 0.777 - KL 0.158\n"
          ]
        },
        {
          "output_type": "stream",
          "name": "stderr",
          "text": [
            "Epoch 26: 100%|██████████| 20/20 [00:07<00:00,  2.84it/s]\n"
          ]
        },
        {
          "output_type": "stream",
          "name": "stdout",
          "text": [
            "\t[Losses] Total 0.93 - Recon. 0.771 - KL 0.159\n"
          ]
        },
        {
          "output_type": "stream",
          "name": "stderr",
          "text": [
            "Epoch 27: 100%|██████████| 20/20 [00:09<00:00,  2.20it/s]\n"
          ]
        },
        {
          "output_type": "stream",
          "name": "stdout",
          "text": [
            "\t[Losses] Total 0.925 - Recon. 0.766 - KL 0.159\n"
          ]
        },
        {
          "output_type": "stream",
          "name": "stderr",
          "text": [
            "Epoch 28: 100%|██████████| 20/20 [00:08<00:00,  2.30it/s]\n"
          ]
        },
        {
          "output_type": "stream",
          "name": "stdout",
          "text": [
            "\t[Losses] Total 0.919 - Recon. 0.76 - KL 0.159\n"
          ]
        },
        {
          "output_type": "stream",
          "name": "stderr",
          "text": [
            "Epoch 29: 100%|██████████| 20/20 [00:07<00:00,  2.71it/s]\n"
          ]
        },
        {
          "output_type": "stream",
          "name": "stdout",
          "text": [
            "\t[Losses] Total 0.915 - Recon. 0.755 - KL 0.159\n"
          ]
        },
        {
          "output_type": "stream",
          "name": "stderr",
          "text": [
            "Epoch 30: 100%|██████████| 20/20 [00:06<00:00,  3.09it/s]\n"
          ]
        },
        {
          "output_type": "stream",
          "name": "stdout",
          "text": [
            "\t[Losses] Total 0.908 - Recon. 0.749 - KL 0.159\n"
          ]
        },
        {
          "output_type": "stream",
          "name": "stderr",
          "text": [
            "Epoch 31: 100%|██████████| 20/20 [00:07<00:00,  2.70it/s]\n"
          ]
        },
        {
          "output_type": "stream",
          "name": "stdout",
          "text": [
            "\t[Losses] Total 0.903 - Recon. 0.743 - KL 0.16\n"
          ]
        },
        {
          "output_type": "stream",
          "name": "stderr",
          "text": [
            "Epoch 32: 100%|██████████| 20/20 [00:06<00:00,  3.00it/s]\n"
          ]
        },
        {
          "output_type": "stream",
          "name": "stdout",
          "text": [
            "\t[Losses] Total 0.901 - Recon. 0.741 - KL 0.16\n"
          ]
        },
        {
          "output_type": "stream",
          "name": "stderr",
          "text": [
            "Epoch 33: 100%|██████████| 20/20 [00:07<00:00,  2.83it/s]\n"
          ]
        },
        {
          "output_type": "stream",
          "name": "stdout",
          "text": [
            "\t[Losses] Total 0.894 - Recon. 0.734 - KL 0.16\n"
          ]
        },
        {
          "output_type": "stream",
          "name": "stderr",
          "text": [
            "Epoch 34: 100%|██████████| 20/20 [00:07<00:00,  2.78it/s]\n"
          ]
        },
        {
          "output_type": "stream",
          "name": "stdout",
          "text": [
            "\t[Losses] Total 0.889 - Recon. 0.728 - KL 0.16\n"
          ]
        },
        {
          "output_type": "stream",
          "name": "stderr",
          "text": [
            "Epoch 35: 100%|██████████| 20/20 [00:06<00:00,  3.05it/s]\n"
          ]
        },
        {
          "output_type": "stream",
          "name": "stdout",
          "text": [
            "\t[Losses] Total 0.885 - Recon. 0.724 - KL 0.16\n"
          ]
        },
        {
          "output_type": "stream",
          "name": "stderr",
          "text": [
            "Epoch 36: 100%|██████████| 20/20 [00:08<00:00,  2.42it/s]\n"
          ]
        },
        {
          "output_type": "stream",
          "name": "stdout",
          "text": [
            "\t[Losses] Total 0.881 - Recon. 0.721 - KL 0.161\n"
          ]
        },
        {
          "output_type": "stream",
          "name": "stderr",
          "text": [
            "Epoch 37: 100%|██████████| 20/20 [00:07<00:00,  2.79it/s]\n"
          ]
        },
        {
          "output_type": "stream",
          "name": "stdout",
          "text": [
            "\t[Losses] Total 0.875 - Recon. 0.714 - KL 0.161\n"
          ]
        },
        {
          "output_type": "stream",
          "name": "stderr",
          "text": [
            "Epoch 38: 100%|██████████| 20/20 [00:06<00:00,  2.89it/s]\n"
          ]
        },
        {
          "output_type": "stream",
          "name": "stdout",
          "text": [
            "\t[Losses] Total 0.874 - Recon. 0.714 - KL 0.161\n"
          ]
        },
        {
          "output_type": "stream",
          "name": "stderr",
          "text": [
            "Epoch 39: 100%|██████████| 20/20 [00:07<00:00,  2.77it/s]\n"
          ]
        },
        {
          "output_type": "stream",
          "name": "stdout",
          "text": [
            "\t[Losses] Total 0.868 - Recon. 0.707 - KL 0.161\n"
          ]
        },
        {
          "output_type": "stream",
          "name": "stderr",
          "text": [
            "Epoch 40: 100%|██████████| 20/20 [00:06<00:00,  2.87it/s]\n"
          ]
        },
        {
          "output_type": "stream",
          "name": "stdout",
          "text": [
            "\t[Losses] Total 0.864 - Recon. 0.703 - KL 0.161\n"
          ]
        },
        {
          "output_type": "stream",
          "name": "stderr",
          "text": [
            "Epoch 41: 100%|██████████| 20/20 [00:07<00:00,  2.73it/s]\n"
          ]
        },
        {
          "output_type": "stream",
          "name": "stdout",
          "text": [
            "\t[Losses] Total 0.86 - Recon. 0.7 - KL 0.161\n"
          ]
        },
        {
          "output_type": "stream",
          "name": "stderr",
          "text": [
            "Epoch 42: 100%|██████████| 20/20 [00:07<00:00,  2.64it/s]\n"
          ]
        },
        {
          "output_type": "stream",
          "name": "stdout",
          "text": [
            "\t[Losses] Total 0.856 - Recon. 0.695 - KL 0.161\n"
          ]
        },
        {
          "output_type": "stream",
          "name": "stderr",
          "text": [
            "Epoch 43: 100%|██████████| 20/20 [00:06<00:00,  3.00it/s]\n"
          ]
        },
        {
          "output_type": "stream",
          "name": "stdout",
          "text": [
            "\t[Losses] Total 0.854 - Recon. 0.693 - KL 0.161\n"
          ]
        },
        {
          "output_type": "stream",
          "name": "stderr",
          "text": [
            "Epoch 44: 100%|██████████| 20/20 [00:07<00:00,  2.78it/s]\n"
          ]
        },
        {
          "output_type": "stream",
          "name": "stdout",
          "text": [
            "\t[Losses] Total 0.85 - Recon. 0.689 - KL 0.161\n"
          ]
        },
        {
          "output_type": "stream",
          "name": "stderr",
          "text": [
            "Epoch 45: 100%|██████████| 20/20 [00:06<00:00,  3.06it/s]\n"
          ]
        },
        {
          "output_type": "stream",
          "name": "stdout",
          "text": [
            "\t[Losses] Total 0.848 - Recon. 0.686 - KL 0.161\n"
          ]
        },
        {
          "output_type": "stream",
          "name": "stderr",
          "text": [
            "Epoch 46: 100%|██████████| 20/20 [00:07<00:00,  2.80it/s]\n"
          ]
        },
        {
          "output_type": "stream",
          "name": "stdout",
          "text": [
            "\t[Losses] Total 0.841 - Recon. 0.68 - KL 0.161\n"
          ]
        },
        {
          "output_type": "stream",
          "name": "stderr",
          "text": [
            "Epoch 47: 100%|██████████| 20/20 [00:07<00:00,  2.64it/s]\n"
          ]
        },
        {
          "output_type": "stream",
          "name": "stdout",
          "text": [
            "\t[Losses] Total 0.839 - Recon. 0.678 - KL 0.161\n"
          ]
        },
        {
          "output_type": "stream",
          "name": "stderr",
          "text": [
            "Epoch 48: 100%|██████████| 20/20 [00:06<00:00,  3.07it/s]\n"
          ]
        },
        {
          "output_type": "stream",
          "name": "stdout",
          "text": [
            "\t[Losses] Total 0.836 - Recon. 0.675 - KL 0.161\n"
          ]
        },
        {
          "output_type": "stream",
          "name": "stderr",
          "text": [
            "Epoch 49: 100%|██████████| 20/20 [00:07<00:00,  2.67it/s]"
          ]
        },
        {
          "output_type": "stream",
          "name": "stdout",
          "text": [
            "\t[Losses] Total 0.834 - Recon. 0.673 - KL 0.161\n",
            "Done.\n"
          ]
        },
        {
          "output_type": "stream",
          "name": "stderr",
          "text": [
            "\n"
          ]
        },
        {
          "output_type": "display_data",
          "data": {
            "text/plain": [
              "<Figure size 400x400 with 16 Axes>"
            ],
            "image/png": "[encoded data removed]"
          },
          "metadata": {}
        }
      ],
      "source": [
        "# set models to train mode\n",
        "p.train()\n",
        "q.train()\n",
        "reparam.train()\n",
        "\n",
        "parameters = list(p.parameters()) + list(q.parameters())\n",
        "optim = torch.optim.Adam(parameters, lr=learning_rate, betas=(0.5, 0.999))\n",
        "bce = nn.BCELoss(size_average=False, reduction='mean')\n",
        "\n",
        "total_losses = []\n",
        "recon_losses = []\n",
        "kl_losses = []\n",
        "current_image = 0\n",
        "\n",
        "print('Training...')\n",
        "for epoch in range(max_epochs):\n",
        "  avg_total_loss = 0\n",
        "  avg_recon_loss = 0\n",
        "  avg_kl_loss = 0\n",
        "\n",
        "  for _, (batch, _) in enumerate(tqdm(train_dataloader, desc=f\"Epoch {epoch}\")):\n",
        "    batch = batch.to(device) # load the data onto GPU is relevant\n",
        "    batch = batch.view(batch_size, -1)\n",
        "\n",
        "    # forward\n",
        "    z_mu, z_var = q(batch)\n",
        "    z = reparam(z_mu, z_var)\n",
        "    batch_recon = p(z)\n",
        "\n",
        "    # reconstruction loss E[log P(X|z)]\n",
        "    recon_loss = bce(batch_recon, batch) / len(batch)\n",
        "    # distribution loss D_KL(Q(z|X) || P(z))\n",
        "    kl_loss = torch.mean(0.5 * torch.sum(torch.exp(z_var) + z_mu ** 2 - 1. - z_var, 1))\n",
        "    # Total loss\n",
        "    total_loss = recon_loss + kl_loss\n",
        "\n",
        "    # backward\n",
        "    total_loss.backward()\n",
        "\n",
        "    # update\n",
        "    optim.step()\n",
        "\n",
        "    # housekeeping\n",
        "    optim.zero_grad()\n",
        "    avg_total_loss += total_loss / len(batch)\n",
        "    avg_recon_loss += recon_loss / len(batch)\n",
        "    avg_kl_loss += kl_loss / len(batch)\n",
        "\n",
        "  # end of epoch\n",
        "  total_losses.append(avg_total_loss.item())\n",
        "  recon_losses.append(avg_recon_loss.item())\n",
        "  kl_losses.append(avg_kl_loss.item())\n",
        "  print(f\"\\t[Losses] Total {total_losses[-1]:.3} - Recon. {recon_losses[-1]:.3} - KL {kl_losses[-1]:.3}\")\n",
        "\n",
        "  # plot\n",
        "  if epoch % 2 == 0:\n",
        "    samples = p(z).data.cpu().numpy()[:16]\n",
        "\n",
        "    plt.close()\n",
        "    fig = plt.figure(figsize=(4, 4))\n",
        "    gs = gridspec.GridSpec(4, 4)\n",
        "    gs.update(wspace=0.05, hspace=0.05)\n",
        "\n",
        "    for i, sample in enumerate(samples):\n",
        "      ax = plt.subplot(gs[i])\n",
        "      plt.axis('off')\n",
        "      ax.set_xticklabels([])\n",
        "      ax.set_yticklabels([])\n",
        "      ax.set_aspect('equal')\n",
        "      plt.imshow(sample.reshape(28, 28), cmap='Greys_r')\n",
        "\n",
        "    if not os.path.exists('training/'):\n",
        "      os.makedirs('out/')\n",
        "    # plt.show()\n",
        "    # plt.pause(0.1)\n",
        "    plt.savefig('training/{}_{}.png'.format(epoch, str(current_image).zfill(3)), bbox_inches='tight')\n",
        "    current_image += 1\n",
        "    # plt.close(fig)\n",
        "\n",
        "print(\"Done.\")"
      ]
    },
    {
      "cell_type": "markdown",
      "metadata": {
        "id": "XziiVXMR0eFY"
      },
      "source": [
        "We can now plot the training curves."
      ]
    },
    {
      "cell_type": "code",
      "execution_count": 10,
      "metadata": {
        "id": "8Vz0u26a0g8j",
        "colab": {
          "base_uri": "https://localhost:8080/",
          "height": 449
        },
        "outputId": "42fa7e84-e3c5-43e9-b726-0bb7e4b8b9b4"
      },
      "outputs": [
        {
          "output_type": "display_data",
          "data": {
            "text/plain": [
              "<Figure size 640x480 with 1 Axes>"
            ],
            "image/png": "[encoded data removed]"
          },
          "metadata": {}
        }
      ],
      "source": [
        "plt.ion()\n",
        "\n",
        "fig = plt.figure()\n",
        "plt.semilogy(total_losses, label='Total')\n",
        "plt.semilogy(recon_losses, label='Reconstruction')\n",
        "plt.semilogy(kl_losses, label='Kullback-Leibler')\n",
        "plt.xlabel('Epochs')\n",
        "plt.ylabel('Loss')\n",
        "plt.legend()\n",
        "plt.show()"
      ]
    },
    {
      "cell_type": "markdown",
      "metadata": {
        "id": "z8rKdm-oiHT1"
      },
      "source": [
        "Generation\n",
        "----------"
      ]
    },
    {
      "cell_type": "code",
      "execution_count": 11,
      "metadata": {
        "id": "oMMSrcl1iMW-",
        "colab": {
          "base_uri": "https://localhost:8080/",
          "height": 807
        },
        "outputId": "79101ad3-f6d1-4a98-d428-cfde10b02002"
      },
      "outputs": [
        {
          "output_type": "display_data",
          "data": {
            "text/plain": [
              "<Figure size 1000x1000 with 1 Axes>"
            ],
            "image/png": "[encoded data removed]"
          },
          "metadata": {}
        }
      ],
      "source": [
        "import numpy as np\n",
        "import matplotlib.pyplot as plt\n",
        "plt.ion()\n",
        "\n",
        "import torchvision.utils\n",
        "\n",
        "p.eval()\n",
        "n = 8\n",
        "\n",
        "def show_image(img):\n",
        "  npimg = img.numpy()\n",
        "  plt.imshow(np.transpose(npimg, (1, 2, 0)))\n",
        "\n",
        "def correct_shape(imgs):\n",
        "  return imgs.view(n**2, 28, 28).unsqueeze(1)\n",
        "\n",
        "with torch.no_grad():\n",
        "  # sample latent vectors from the standard normal distribution\n",
        "  latent = torch.randn((n**2, latent_dim), device=device)\n",
        "  fake_image_batch = p(latent)\n",
        "  fake_image_batch = correct_shape(fake_image_batch)\n",
        "  fake_image_batch = fake_image_batch.cpu()\n",
        "\n",
        "\n",
        "  fig, ax = plt.subplots(figsize=(10, 10))\n",
        "  show_image(torchvision.utils.make_grid(fake_image_batch.data,nrow=n))\n",
        "  plt.axis('off')\n",
        "  plt.show()"
      ]
    },
    {
      "cell_type": "markdown",
      "metadata": {
        "id": "gtkLm1mZiMss"
      },
      "source": [
        "Visualization in Latent Space\n",
        "-----------------------------"
      ]
    },
    {
      "cell_type": "code",
      "execution_count": 12,
      "metadata": {
        "id": "dNLu3oNniQiu",
        "colab": {
          "base_uri": "https://localhost:8080/",
          "height": 274
        },
        "outputId": "5356886e-7b40-4661-f12d-3192a46a848f"
      },
      "outputs": [
        {
          "output_type": "display_data",
          "data": {
            "text/plain": [
              "<Figure size 1500x300 with 5 Axes>"
            ],
            "image/png": "[encoded data removed]"
          },
          "metadata": {}
        }
      ],
      "source": [
        "import numpy as np\n",
        "import matplotlib.pyplot as plt\n",
        "plt.ion()\n",
        "\n",
        "import torchvision.utils\n",
        "\n",
        "p.eval()\n",
        "\n",
        "def correct_shape(imgs):\n",
        "  return imgs.view(-1, 28, 28).unsqueeze(1)\n",
        "\n",
        "def interpolation(lambda1, model, latent_1, latent_2):\n",
        "  with torch.no_grad():\n",
        "    # interpolation of the two latent vectors\n",
        "    inter_latent = lambda1* latent_1 + (1- lambda1) * latent_2\n",
        "\n",
        "    # reconstruct interpolated image\n",
        "    inter_latent = inter_latent.to(device)\n",
        "    inter_image = model(inter_latent)\n",
        "    inter_image = inter_image.cpu()\n",
        "\n",
        "    return inter_image\n",
        "\n",
        "# sample two latent vectors from the standard normal distribution\n",
        "latent_1 = torch.randn((1, latent_dim), device=device)\n",
        "latent_2 = torch.randn((1, latent_dim), device=device)\n",
        "\n",
        "# interpolation lambdas\n",
        "lambda_range=np.linspace(0,1,5)\n",
        "\n",
        "fig, axs = plt.subplots(1,5, figsize=(15, 3))\n",
        "fig.subplots_adjust(wspace=.1)\n",
        "axs = axs.ravel()\n",
        "\n",
        "for ind,l in enumerate(lambda_range):\n",
        "  inter_image=interpolation(float(l), p, latent_1, latent_2)\n",
        "\n",
        "  inter_image = correct_shape(inter_image)\n",
        "\n",
        "  image = inter_image.numpy()\n",
        "\n",
        "  axs[ind].imshow(image[0,0,:,:], cmap='gray')\n",
        "  axs[ind].set_title('$\\lambda$='+str(round(l,1)))\n",
        "  axs[ind].axis('off')\n",
        "plt.show()"
      ]
    }
  ],
  "metadata": {
    "accelerator": "GPU",
    "colab": {
      "gpuType": "T4",
      "provenance": []
    },
    "kernelspec": {
      "display_name": "Python 3",
      "name": "python3"
    },
    "language_info": {
      "name": "python"
    }
  },
  "nbformat": 4,
  "nbformat_minor": 0
}